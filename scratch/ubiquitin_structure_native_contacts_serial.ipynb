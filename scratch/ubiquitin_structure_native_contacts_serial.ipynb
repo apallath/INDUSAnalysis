{
 "cells": [
  {
   "cell_type": "code",
   "execution_count": 1,
   "metadata": {},
   "outputs": [
    {
     "data": {
      "application/vnd.jupyter.widget-view+json": {
       "model_id": "f0ddf7f327ae4f3fa31242a5f49552e8",
       "version_major": 2,
       "version_minor": 0
      },
      "text/plain": [
       "_ColormakerRegistry()"
      ]
     },
     "metadata": {},
     "output_type": "display_data"
    }
   ],
   "source": [
    "%matplotlib inline\n",
    "import numpy as np\n",
    "import matplotlib.pyplot as plt\n",
    "import MDAnalysis as mda\n",
    "import MDAnalysis.lib.distances\n",
    "import nglview as nv\n",
    "\n",
    "import numba\n",
    "from numba import jit"
   ]
  },
  {
   "cell_type": "code",
   "execution_count": 2,
   "metadata": {},
   "outputs": [],
   "source": [
    "#Path to structure and trajectory files\n",
    "structf = \"/Volumes/Akash_SSD/starter_project/ubiquitin/chestnut/unfold_fold/i-3.5/1/indus_fwd.gro\"\n",
    "trajf = \"/Volumes/Akash_SSD/starter_project/ubiquitin/chestnut/unfold_fold/i-3.5/1/indus_fwd_mol.xtc\"\n",
    "\n",
    "#Create universe\n",
    "u = mda.Universe(structf,trajf)\n",
    "protein = u.select_atoms(\"protein\")"
   ]
  },
  {
   "cell_type": "code",
   "execution_count": 3,
   "metadata": {},
   "outputs": [
    {
     "name": "stdout",
     "output_type": "stream",
     "text": [
      "You have to install moviepy, imageio and ffmeg\n",
      "pip install moviepy==0.2.2.11\n",
      "pip install imageio==1.6\n"
     ]
    },
    {
     "data": {
      "application/vnd.jupyter.widget-view+json": {
       "model_id": "bb9cf869d7c1472d80ca870432bf991f",
       "version_major": 2,
       "version_minor": 0
      },
      "text/plain": [
       "IntProgress(value=0, description='Rendering ...', max=200)"
      ]
     },
     "metadata": {},
     "output_type": "display_data"
    }
   ],
   "source": [
    "#Visualize using nglview\n",
    "from nglview.contrib.movie import MovieMaker\n",
    "view = nv.show_mdanalysis(protein)\n",
    "movie = MovieMaker(view, output='my.gif', in_memory=True)\n",
    "movie.make()"
   ]
  },
  {
   "cell_type": "markdown",
   "metadata": {},
   "source": [
    "# Ubiquitin - atom selections\n",
    "\n",
    "GROMACS groups: http://manual.gromacs.org/documentation/2019-rc1/reference-manual/analysis/using-groups.html\n",
    "\n",
    "MDAnalysis selections: Look up documentation.\n",
    "\n",
    "Looking through the topology file:\n",
    "- 1st residue - NMET: MET with charged N-terminus (NH3+). N-terminal atom is N. Terminal amide H's are H1, H2, H3 \n",
    "- Last residue - CGLY: GLY with charged C-terminus (COO-). C-terminal atom is C. Terminal carboxylic O's are OC1, OC2\n",
    "- Amide nitrogen is N\n",
    "- Amide hydrogen is H\n",
    "- Alpha carbons on backbone are CA.\n",
    "- Alpha hydrogen is HA (for GLY, HA1 and HA2)\n",
    "- Acid carbons on backbone are C.\n",
    "- Acid oxygens on backbone are O."
   ]
  },
  {
   "cell_type": "code",
   "execution_count": 4,
   "metadata": {},
   "outputs": [],
   "source": [
    "#   H HA O\n",
    "#   | |  \"\n",
    "#-(-N-CA-C-)-\n",
    "#     |\n",
    "#     R"
   ]
  },
  {
   "cell_type": "code",
   "execution_count": 5,
   "metadata": {},
   "outputs": [
    {
     "name": "stdout",
     "output_type": "stream",
     "text": [
      "1231\n"
     ]
    }
   ],
   "source": [
    "print(len(protein))\n",
    "#GROMACS make_ndx: 1231"
   ]
  },
  {
   "cell_type": "code",
   "execution_count": 6,
   "metadata": {},
   "outputs": [
    {
     "name": "stdout",
     "output_type": "stream",
     "text": [
      "602\n"
     ]
    }
   ],
   "source": [
    "protein_heavy = u.select_atoms(\"protein and not type H\")\n",
    "print(len(protein_heavy))\n",
    "#GROMACS make_ndx Protein-H: 602 "
   ]
  },
  {
   "cell_type": "code",
   "execution_count": 7,
   "metadata": {},
   "outputs": [
    {
     "name": "stdout",
     "output_type": "stream",
     "text": [
      "76\n"
     ]
    }
   ],
   "source": [
    "C_alpha = u.select_atoms (\"protein and name CA\")\n",
    "print(len(C_alpha))\n",
    "#GROMACS make_ndx C-alpha: 76"
   ]
  },
  {
   "cell_type": "code",
   "execution_count": 8,
   "metadata": {},
   "outputs": [
    {
     "name": "stdout",
     "output_type": "stream",
     "text": [
      "303\n",
      "303\n",
      "228\n"
     ]
    }
   ],
   "source": [
    "# In MDAnalysis N, CA, C, O are backbone\n",
    "mda_backbone = u.select_atoms(\"backbone\")\n",
    "alt_mda_backbone = u.select_atoms(\"name CA or name C or name N or name O\")\n",
    "print(len(mda_backbone))\n",
    "print(len(alt_mda_backbone)) #same\n",
    "\n",
    "# In GROMACS, N, CA and C are backbone\n",
    "backbone = u.select_atoms(\"name CA or name C or name N\")\n",
    "print(len(backbone))\n",
    "\n",
    "#GROMACS make_ndx: 228"
   ]
  },
  {
   "cell_type": "code",
   "execution_count": 9,
   "metadata": {},
   "outputs": [
    {
     "name": "stdout",
     "output_type": "stream",
     "text": [
      "851\n"
     ]
    }
   ],
   "source": [
    "# In GROMACS, all atoms except N, CA, C, O, backbone amide hydrogens, \n",
    "# oxygens in C-terminus and hydrogens on the N-terminus are side chain atoms\n",
    "side_chain = u.select_atoms(\"\"\"protein and not (name N or name CA or name C or name O or name H\n",
    "                            or name H1 or name H2 or name H3 or name OC1 or name OC2)\"\"\")\n",
    "print(len(side_chain))\n",
    "\n",
    "#GROMACS make_ndx SideChain: 851"
   ]
  },
  {
   "cell_type": "code",
   "execution_count": 10,
   "metadata": {},
   "outputs": [
    {
     "name": "stdout",
     "output_type": "stream",
     "text": [
      "297\n"
     ]
    }
   ],
   "source": [
    "# In GROMACS, protein side chain excluding all H is side_chain_heavy\n",
    "side_chain_heavy = u.select_atoms(\"\"\"protein and not(name N or name CA or name C or name O \n",
    "                                     or name OC1 or name OC2 or type H)\"\"\")\n",
    "print(len(side_chain_heavy))\n",
    "\n",
    "#GROMACS make_ndx SideChain-H = 297"
   ]
  },
  {
   "cell_type": "code",
   "execution_count": 11,
   "metadata": {},
   "outputs": [
    {
     "name": "stdout",
     "output_type": "stream",
     "text": [
      "77\n"
     ]
    }
   ],
   "source": [
    "# O's and terminal O's excluded from GROMACS backbone\n",
    "backbone_oxygens = u.select_atoms(\"name O or name OC1 or name OC2\")\n",
    "print(len(backbone_oxygens))"
   ]
  },
  {
   "cell_type": "code",
   "execution_count": 12,
   "metadata": {},
   "outputs": [],
   "source": [
    "assert(len(backbone) + len(backbone_oxygens) + len(side_chain_heavy) == len(protein_heavy))\n",
    "#228 + 77 + 297 = 602"
   ]
  },
  {
   "cell_type": "markdown",
   "metadata": {},
   "source": [
    "# Native Contacts in reference structure (unbiased production run)\n",
    "\n",
    "Determine number of contacts between side-chain heavy atoms belonging to residues $i$ and $j$ such that $|i - j| > 3$ and the distance between the atoms is < $d \\mathring{\\textrm{A}}$ "
   ]
  },
  {
   "cell_type": "code",
   "execution_count": 13,
   "metadata": {},
   "outputs": [],
   "source": [
    "refstructf = \"/Volumes/Akash_SSD/starter_project/ubiquitin/local/equil/prod.gro\"\n",
    "reftrajf = \"/Volumes/Akash_SSD/starter_project/ubiquitin/local/equil/prod.xtc\"\n",
    "\n",
    "refu = mda.Universe(refstructf, reftrajf)\n",
    "refprotein = refu.select_atoms(\"protein\")"
   ]
  },
  {
   "cell_type": "code",
   "execution_count": 14,
   "metadata": {},
   "outputs": [],
   "source": [
    "side_heavy_sel = \"protein and not(name N or name CA or name C or name O or name OC1 or name OC2 or type H)\""
   ]
  },
  {
   "cell_type": "code",
   "execution_count": 33,
   "metadata": {},
   "outputs": [
    {
     "name": "stdout",
     "output_type": "stream",
     "text": [
      "[[1 1]\n",
      " [1 2]\n",
      " [1 3]\n",
      " [1 4]\n",
      " [2 1]\n",
      " [2 2]\n",
      " [2 3]\n",
      " [2 4]\n",
      " [3 1]\n",
      " [3 2]\n",
      " [3 3]\n",
      " [3 4]\n",
      " [4 1]\n",
      " [4 2]\n",
      " [4 3]\n",
      " [4 4]\n",
      " [5 1]\n",
      " [5 2]\n",
      " [5 3]\n",
      " [5 4]]\n",
      "[11 12 13 14 21 22 23 24 31 32 33 34 41 42 43 44 51 52 53 54]\n"
     ]
    }
   ],
   "source": [
    "### TEST - MATRIX RESHAPING\n",
    "mat = [[11,12,13,14],\n",
    "       [21,22,23,24],\n",
    "       [31,32,33,34],\n",
    "       [41,42,43,44],\n",
    "       [51,52,53,54]]\n",
    "iidx = [1, 2, 3, 4, 5]\n",
    "jidx = [1, 2, 3, 4]\n",
    "print(np.array([(i,j) for i in iidx for j in jidx]))\n",
    "\n",
    "mat = np.array(mat)\n",
    "print(np.reshape(mat, (mat.shape[0]*mat.shape[1],)))"
   ]
  },
  {
   "cell_type": "code",
   "execution_count": 58,
   "metadata": {},
   "outputs": [
    {
     "name": "stdout",
     "output_type": "stream",
     "text": [
      "Step = 1, time = 0.0 ps, contacts = 1107\n",
      "Step = 2, time = 10.0 ps, contacts = 1074\n",
      "Step = 3, time = 20.0 ps, contacts = 1099\n",
      "Step = 4, time = 30.0 ps, contacts = 1049\n",
      "Step = 5, time = 40.0 ps, contacts = 1016\n",
      "Step = 6, time = 50.0 ps, contacts = 1013\n",
      "Step = 7, time = 60.0 ps, contacts = 1073\n",
      "Step = 8, time = 70.0 ps, contacts = 1066\n",
      "Step = 9, time = 80.0 ps, contacts = 1072\n",
      "Step = 10, time = 90.0 ps, contacts = 1034\n",
      "Step = 11, time = 100.0 ps, contacts = 1016\n",
      "Step = 12, time = 110.0 ps, contacts = 1028\n",
      "Step = 13, time = 120.0 ps, contacts = 1083\n",
      "Step = 14, time = 130.0 ps, contacts = 1069\n",
      "Step = 15, time = 140.0 ps, contacts = 1035\n",
      "Step = 16, time = 150.0 ps, contacts = 1060\n",
      "Step = 17, time = 160.0 ps, contacts = 1061\n",
      "Step = 18, time = 170.0 ps, contacts = 1037\n",
      "Step = 19, time = 180.0 ps, contacts = 1057\n",
      "Step = 20, time = 190.0 ps, contacts = 1036\n",
      "Step = 21, time = 200.0 ps, contacts = 1071\n",
      "Step = 22, time = 210.0 ps, contacts = 1085\n",
      "Step = 23, time = 220.0 ps, contacts = 1063\n",
      "Step = 24, time = 230.0 ps, contacts = 1066\n",
      "Step = 25, time = 240.0 ps, contacts = 1070\n",
      "Step = 26, time = 250.0 ps, contacts = 1060\n",
      "Step = 27, time = 260.0 ps, contacts = 1137\n",
      "Step = 28, time = 270.0 ps, contacts = 1076\n",
      "Step = 29, time = 280.0 ps, contacts = 1082\n",
      "Step = 30, time = 290.0 ps, contacts = 1092\n",
      "Step = 31, time = 300.0 ps, contacts = 1043\n",
      "Step = 32, time = 310.0 ps, contacts = 1098\n",
      "Step = 33, time = 320.0 ps, contacts = 1116\n",
      "Step = 34, time = 330.0 ps, contacts = 1084\n",
      "Step = 35, time = 340.0 ps, contacts = 1063\n",
      "Step = 36, time = 350.0 ps, contacts = 1050\n",
      "Step = 37, time = 360.0 ps, contacts = 1048\n",
      "Step = 38, time = 370.0 ps, contacts = 1022\n",
      "Step = 39, time = 380.0 ps, contacts = 1040\n",
      "Step = 40, time = 390.0 ps, contacts = 1042\n",
      "Step = 41, time = 400.0 ps, contacts = 1032\n",
      "Step = 42, time = 410.0 ps, contacts = 1011\n",
      "Step = 43, time = 420.0 ps, contacts = 1025\n",
      "Step = 44, time = 430.0 ps, contacts = 1038\n",
      "Step = 45, time = 440.0 ps, contacts = 1006\n",
      "Step = 46, time = 450.0 ps, contacts = 1018\n",
      "Step = 47, time = 460.0 ps, contacts = 1054\n",
      "Step = 48, time = 470.0 ps, contacts = 1042\n",
      "Step = 49, time = 480.0 ps, contacts = 1008\n",
      "Step = 50, time = 490.0 ps, contacts = 1027\n",
      "Step = 51, time = 500.0 ps, contacts = 1053\n",
      "Step = 52, time = 510.0 ps, contacts = 1048\n",
      "Step = 53, time = 520.0 ps, contacts = 1131\n",
      "Step = 54, time = 530.0 ps, contacts = 1064\n",
      "Step = 55, time = 540.0 ps, contacts = 1051\n",
      "Step = 56, time = 550.0 ps, contacts = 1070\n",
      "Step = 57, time = 560.0 ps, contacts = 1060\n",
      "Step = 58, time = 570.0 ps, contacts = 1058\n",
      "Step = 59, time = 580.0 ps, contacts = 1027\n",
      "Step = 60, time = 590.0 ps, contacts = 1055\n",
      "Step = 61, time = 600.0 ps, contacts = 1067\n",
      "Step = 62, time = 610.0 ps, contacts = 1062\n",
      "Step = 63, time = 620.0 ps, contacts = 1064\n",
      "Step = 64, time = 630.0 ps, contacts = 1023\n",
      "Step = 65, time = 640.0 ps, contacts = 1047\n",
      "Step = 66, time = 650.0 ps, contacts = 1085\n",
      "Step = 67, time = 660.0 ps, contacts = 1064\n",
      "Step = 68, time = 670.0 ps, contacts = 1077\n",
      "Step = 69, time = 680.0 ps, contacts = 1059\n",
      "Step = 70, time = 690.0 ps, contacts = 1049\n",
      "Step = 71, time = 700.0 ps, contacts = 1068\n",
      "Step = 72, time = 710.0 ps, contacts = 1073\n",
      "Step = 73, time = 720.0 ps, contacts = 1136\n",
      "Step = 74, time = 730.0 ps, contacts = 1065\n",
      "Step = 75, time = 740.0 ps, contacts = 1084\n",
      "Step = 76, time = 750.0 ps, contacts = 1066\n",
      "Step = 77, time = 760.0 ps, contacts = 1075\n",
      "Step = 78, time = 770.0 ps, contacts = 1070\n",
      "Step = 79, time = 780.0 ps, contacts = 1077\n",
      "Step = 80, time = 790.0 ps, contacts = 1044\n",
      "Step = 81, time = 800.0 ps, contacts = 1045\n",
      "Step = 82, time = 810.0 ps, contacts = 1054\n",
      "Step = 83, time = 820.0 ps, contacts = 1078\n",
      "Step = 84, time = 830.0 ps, contacts = 1061\n",
      "Step = 85, time = 840.0 ps, contacts = 1084\n",
      "Step = 86, time = 850.0 ps, contacts = 1047\n",
      "Step = 87, time = 860.0 ps, contacts = 1049\n",
      "Step = 88, time = 870.0 ps, contacts = 1087\n",
      "Step = 89, time = 880.0 ps, contacts = 1093\n",
      "Step = 90, time = 890.0 ps, contacts = 991\n",
      "Step = 91, time = 900.0 ps, contacts = 1044\n",
      "Step = 92, time = 910.0 ps, contacts = 1071\n",
      "Step = 93, time = 920.0 ps, contacts = 1056\n",
      "Step = 94, time = 930.0 ps, contacts = 992\n",
      "Step = 95, time = 940.0 ps, contacts = 1049\n",
      "Step = 96, time = 950.0 ps, contacts = 1047\n",
      "Step = 97, time = 960.0 ps, contacts = 1035\n",
      "Step = 98, time = 970.0 ps, contacts = 1050\n",
      "Step = 99, time = 980.0 ps, contacts = 1061\n",
      "Step = 100, time = 990.0 ps, contacts = 1060\n",
      "Step = 101, time = 1000.0 ps, contacts = 1021\n"
     ]
    }
   ],
   "source": [
    "skip = 1\n",
    "nres = len(refprotein.residues)\n",
    "\n",
    "step = 0\n",
    "contacts = []\n",
    "l = len(refprotein.residues.atoms)\n",
    "contactmatrix = np.zeros((l,l))\n",
    "\n",
    "####CUTOFF####\n",
    "cutoff = 6\n",
    "\n",
    "for ts in refu.trajectory[0::skip]:\n",
    "    #Method 2\n",
    "    box = ts.dimensions\n",
    "    ncontacts = 0\n",
    "    atomiccontacts = np.zeros((nres, nres))\n",
    "\n",
    "    for i in range(nres):\n",
    "        heavy_side_i = refprotein.residues[i].atoms.select_atoms(side_heavy_sel)\n",
    "        heavy_side_j = refprotein.residues[i+4:].atoms.select_atoms(side_heavy_sel)\n",
    "        dmatrix = mda.lib.distances.distance_array(heavy_side_i.positions, heavy_side_j.positions, box)\n",
    "        ijc = np.count_nonzero(dmatrix < cutoff)\n",
    "        ncontacts += ijc\n",
    "        iidx = heavy_side_i.indices\n",
    "        jidx = heavy_side_j.indices\n",
    "        \n",
    "        for i in range(dmatrix.shape[0]):\n",
    "            for j in range(dmatrix.shape[1]):\n",
    "                contactmatrix[iidx[i], jidx[j]] += dmatrix[i,j]\n",
    "        \n",
    "    print(\"Step = {}, time = {} ps, contacts = {}\".format(step*skip + 1,ts.time,ncontacts))\n",
    "    contacts.append([ts.time, ncontacts])\n",
    "    step += 1\n",
    "\n",
    "refcontacts = np.array(contacts)\n",
    "for i in range(contactmatrix.shape[0]):\n",
    "    for j in range(contactmatrix.shape[1]):\n",
    "        contactmatrix[i,j] = max(contactmatrix[i,j], contactmatrix[j,i])"
   ]
  },
  {
   "cell_type": "code",
   "execution_count": 1,
   "metadata": {},
   "outputs": [
    {
     "ename": "NameError",
     "evalue": "name 'plt' is not defined",
     "output_type": "error",
     "traceback": [
      "\u001b[0;31m---------------------------------------------------------------------------\u001b[0m",
      "\u001b[0;31mNameError\u001b[0m                                 Traceback (most recent call last)",
      "\u001b[0;32m<ipython-input-1-f027c2b6ca4d>\u001b[0m in \u001b[0;36m<module>\u001b[0;34m\u001b[0m\n\u001b[0;32m----> 1\u001b[0;31m \u001b[0mplt\u001b[0m\u001b[0;34m.\u001b[0m\u001b[0mhist\u001b[0m\u001b[0;34m(\u001b[0m\u001b[0mrefcontacts\u001b[0m\u001b[0;34m[\u001b[0m\u001b[0;34m:\u001b[0m\u001b[0;34m,\u001b[0m\u001b[0;36m1\u001b[0m\u001b[0;34m]\u001b[0m\u001b[0;34m,\u001b[0m \u001b[0mbins\u001b[0m\u001b[0;34m=\u001b[0m\u001b[0;36m50\u001b[0m\u001b[0;34m)\u001b[0m\u001b[0;34m\u001b[0m\u001b[0;34m\u001b[0m\u001b[0m\n\u001b[0m",
      "\u001b[0;31mNameError\u001b[0m: name 'plt' is not defined"
     ]
    }
   ],
   "source": [
    "plt.hist(refcontacts[:,1], bins=50)"
   ]
  },
  {
   "cell_type": "code",
   "execution_count": 60,
   "metadata": {},
   "outputs": [
    {
     "data": {
      "text/plain": [
       "<matplotlib.colorbar.Colorbar at 0x8248b6c90>"
      ]
     },
     "execution_count": 60,
     "metadata": {},
     "output_type": "execute_result"
    },
    {
     "data": {
      "image/png": "[encoded data removed]",
      "text/plain": [
       "<Figure size 900x600 with 2 Axes>"
      ]
     },
     "metadata": {
      "needs_background": "light"
     },
     "output_type": "display_data"
    }
   ],
   "source": [
    "plt.figure(dpi=150)\n",
    "plt.imshow(contactmatrix)\n",
    "plt.colorbar()"
   ]
  },
  {
   "cell_type": "markdown",
   "metadata": {},
   "source": [
    "# Contact analysis along trajectory"
   ]
  },
  {
   "cell_type": "code",
   "execution_count": null,
   "metadata": {},
   "outputs": [],
   "source": [
    "%%time\n",
    "skip = 1\n",
    "nres = len(protein.residues)\n",
    "\n",
    "step = 0\n",
    "contacts = []\n",
    "\n",
    "for ts in u.trajectory[0::skip]:\n",
    "    #Method 2\n",
    "    box = ts.dimensions\n",
    "    ncontacts = 0\n",
    "\n",
    "    for i in range(nres):\n",
    "        heavy_side_i = protein.residues[i].atoms.select_atoms(side_heavy_sel)\n",
    "        heavy_side_j = protein.residues[i+4:].atoms.select_atoms(side_heavy_sel)\n",
    "        da = mda.lib.distances.distance_array(heavy_side_i.positions, heavy_side_j.positions, box)\n",
    "        ncontacts += np.count_nonzero(da < 4.5)\n",
    "        \n",
    "    print(\"Step = {}, time = {} ps, contacts = {}\".format(step*skip + 1,ts.time,ncontacts))\n",
    "    contacts.append([ts.time, ncontacts])\n",
    "    step += 1\n",
    "\n",
    "contacts = np.array(contacts)"
   ]
  },
  {
   "cell_type": "code",
   "execution_count": null,
   "metadata": {},
   "outputs": [],
   "source": [
    "plt.figure(dpi=100)\n",
    "ax = plt.gca()\n",
    "ax.plot(contacts[:,0], contacts[:,1], 'o-')\n",
    "ax.set_xlabel(\"Time (ps)\")\n",
    "ax.set_ylabel(\"Number of contacts\")\n",
    "ax.set_xlim([min(contacts_2[:,0]), max(contacts_2[:,0])])\n",
    "ax.set_ylim([0, None])"
   ]
  },
  {
   "cell_type": "code",
   "execution_count": null,
   "metadata": {},
   "outputs": [],
   "source": [
    "plt.figure(dpi=100)\n",
    "ax = plt.gca()\n",
    "ax.plot(contacts[:,0], contacts[:,1]/refcontacts, 'o-')\n",
    "ax.set_xlabel(\"Time (ps)\")\n",
    "ax.set_ylabel(\"Fraction of native contacts\")\n",
    "ax.set_xlim([min(contacts_2[:,0]), max(contacts_2[:,0])])\n",
    "ax.set_ylim([0, 1])"
   ]
  },
  {
   "cell_type": "code",
   "execution_count": null,
   "metadata": {},
   "outputs": [],
   "source": []
  }
 ],
 "metadata": {
  "kernelspec": {
   "display_name": "Python 3",
   "language": "python",
   "name": "python3"
  },
  "language_info": {
   "codemirror_mode": {
    "name": "ipython",
    "version": 3
   },
   "file_extension": ".py",
   "mimetype": "text/x-python",
   "name": "python",
   "nbconvert_exporter": "python",
   "pygments_lexer": "ipython3",
   "version": "3.7.6"
  }
 },
 "nbformat": 4,
 "nbformat_minor": 2
}
