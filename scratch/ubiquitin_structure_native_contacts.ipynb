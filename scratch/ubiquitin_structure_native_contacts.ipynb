{
 "cells": [
  {
   "cell_type": "code",
   "execution_count": 1,
   "metadata": {},
   "outputs": [
    {
     "data": {
      "application/vnd.jupyter.widget-view+json": {
       "model_id": "12e7f12526194ac5bda16a9f79cf8ddc",
       "version_major": 2,
       "version_minor": 0
      },
      "text/plain": [
       "_ColormakerRegistry()"
      ]
     },
     "metadata": {},
     "output_type": "display_data"
    }
   ],
   "source": [
    "%matplotlib inline\n",
    "import numpy as np\n",
    "import matplotlib.pyplot as plt\n",
    "import MDAnalysis as mda\n",
    "import MDAnalysis.lib.distances\n",
    "import nglview as nv"
   ]
  },
  {
   "cell_type": "code",
   "execution_count": 2,
   "metadata": {},
   "outputs": [],
   "source": [
    "#Path to structure and trajectory files\n",
    "structf = \"/Volumes/Akash_SSD/starter_project/ubiquitin/chestnut/unfold_fold/i-3.5/1/indus_fwd.gro\"\n",
    "trajf = \"/Volumes/Akash_SSD/starter_project/ubiquitin/chestnut/unfold_fold/i-3.5/1/indus_fwd_mol.xtc\"\n",
    "\n",
    "#Create universe\n",
    "u = mda.Universe(structf,trajf)\n",
    "protein = u.select_atoms(\"protein\")"
   ]
  },
  {
   "cell_type": "code",
   "execution_count": 3,
   "metadata": {},
   "outputs": [
    {
     "data": {
      "application/vnd.jupyter.widget-view+json": {
       "model_id": "7d81e2a69a0b4ca891bba7834cde362c",
       "version_major": 2,
       "version_minor": 0
      },
      "text/plain": [
       "IntProgress(value=0, description='Rendering ...', max=200)"
      ]
     },
     "metadata": {},
     "output_type": "display_data"
    }
   ],
   "source": [
    "#Visualize using nglview\n",
    "from nglview.contrib.movie import MovieMaker\n",
    "view = nv.show_mdanalysis(protein)\n",
    "movie = MovieMaker(view, output='my.gif', in_memory=True)\n",
    "movie.make()"
   ]
  },
  {
   "cell_type": "markdown",
   "metadata": {},
   "source": [
    "# Ubiquitin - atom selections\n",
    "\n",
    "GROMACS groups: http://manual.gromacs.org/documentation/2019-rc1/reference-manual/analysis/using-groups.html\n",
    "\n",
    "MDAnalysis selections: Look up documentation.\n",
    "\n",
    "Looking through the topology file:\n",
    "- 1st residue - NMET: MET with charged N-terminus (NH3+). N-terminal atom is N. Terminal amide H's are H1, H2, H3 \n",
    "- Last residue - CGLY: GLY with charged C-terminus (COO-). C-terminal atom is C. Terminal carboxylic O's are OC1, OC2\n",
    "- Amide nitrogen is N\n",
    "- Amide hydrogen is H\n",
    "- Alpha carbons on backbone are CA.\n",
    "- Alpha hydrogen is HA (for GLY, HA1 and HA2)\n",
    "- Acid carbons on backbone are C.\n",
    "- Acid oxygens on backbone are O."
   ]
  },
  {
   "cell_type": "code",
   "execution_count": 4,
   "metadata": {},
   "outputs": [],
   "source": [
    "#   H HA O\n",
    "#   | |  \"\n",
    "#-(-N-CA-C-)-\n",
    "#     |\n",
    "#     R"
   ]
  },
  {
   "cell_type": "code",
   "execution_count": 5,
   "metadata": {},
   "outputs": [
    {
     "name": "stdout",
     "output_type": "stream",
     "text": [
      "1231\n"
     ]
    }
   ],
   "source": [
    "print(len(protein))\n",
    "#GROMACS make_ndx: 1231"
   ]
  },
  {
   "cell_type": "code",
   "execution_count": 6,
   "metadata": {},
   "outputs": [
    {
     "name": "stdout",
     "output_type": "stream",
     "text": [
      "602\n"
     ]
    }
   ],
   "source": [
    "protein_heavy = u.select_atoms(\"protein and not type H\")\n",
    "print(len(protein_heavy))\n",
    "#GROMACS make_ndx Protein-H: 602 "
   ]
  },
  {
   "cell_type": "code",
   "execution_count": 7,
   "metadata": {},
   "outputs": [
    {
     "name": "stdout",
     "output_type": "stream",
     "text": [
      "76\n"
     ]
    }
   ],
   "source": [
    "C_alpha = u.select_atoms (\"protein and name CA\")\n",
    "print(len(C_alpha))\n",
    "#GROMACS make_ndx C-alpha: 76"
   ]
  },
  {
   "cell_type": "code",
   "execution_count": 8,
   "metadata": {},
   "outputs": [
    {
     "name": "stdout",
     "output_type": "stream",
     "text": [
      "303\n",
      "303\n",
      "228\n"
     ]
    }
   ],
   "source": [
    "# In MDAnalysis N, CA, C, O are backbone\n",
    "mda_backbone = u.select_atoms(\"backbone\")\n",
    "alt_mda_backbone = u.select_atoms(\"name CA or name C or name N or name O\")\n",
    "print(len(mda_backbone))\n",
    "print(len(alt_mda_backbone)) #same\n",
    "\n",
    "# In GROMACS, N, CA and C are backbone\n",
    "backbone = u.select_atoms(\"name CA or name C or name N\")\n",
    "print(len(backbone))\n",
    "\n",
    "#GROMACS make_ndx: 228"
   ]
  },
  {
   "cell_type": "code",
   "execution_count": 9,
   "metadata": {},
   "outputs": [
    {
     "name": "stdout",
     "output_type": "stream",
     "text": [
      "851\n"
     ]
    }
   ],
   "source": [
    "# In GROMACS, all atoms except N, CA, C, O, backbone amide hydrogens, \n",
    "# oxygens in C-terminus and hydrogens on the N-terminus are side chain atoms\n",
    "side_chain = u.select_atoms(\"\"\"protein and not (name N or name CA or name C or name O or name H\n",
    "                            or name H1 or name H2 or name H3 or name OC1 or name OC2)\"\"\")\n",
    "print(len(side_chain))\n",
    "\n",
    "#GROMACS make_ndx SideChain: 851"
   ]
  },
  {
   "cell_type": "code",
   "execution_count": 10,
   "metadata": {},
   "outputs": [
    {
     "name": "stdout",
     "output_type": "stream",
     "text": [
      "297\n"
     ]
    }
   ],
   "source": [
    "# In GROMACS, protein side chain excluding all H is side_chain_heavy\n",
    "side_chain_heavy = u.select_atoms(\"\"\"protein and not(name N or name CA or name C or name O \n",
    "                                     or name OC1 or name OC2 or type H)\"\"\")\n",
    "print(len(side_chain_heavy))\n",
    "\n",
    "#GROMACS make_ndx SideChain-H = 297"
   ]
  },
  {
   "cell_type": "code",
   "execution_count": 11,
   "metadata": {},
   "outputs": [
    {
     "name": "stdout",
     "output_type": "stream",
     "text": [
      "77\n"
     ]
    }
   ],
   "source": [
    "# O's and terminal O's excluded from GROMACS backbone\n",
    "backbone_oxygens = u.select_atoms(\"name O or name OC1 or name OC2\")\n",
    "print(len(backbone_oxygens))"
   ]
  },
  {
   "cell_type": "code",
   "execution_count": 12,
   "metadata": {},
   "outputs": [],
   "source": [
    "assert(len(backbone) + len(backbone_oxygens) + len(side_chain_heavy) == len(protein_heavy))\n",
    "#228 + 77 + 297 = 602"
   ]
  },
  {
   "cell_type": "markdown",
   "metadata": {},
   "source": [
    "# Native Contacts in reference structure (1UBQ PDB)\n",
    "\n",
    "Determine number of contacts between side-chain heavy atoms belonging to residues $i$ and $j$ such that $|i - j| > 3$ and the distance between the atoms is < $4.5 \\mathring{\\textrm{A}}$ "
   ]
  },
  {
   "cell_type": "code",
   "execution_count": 13,
   "metadata": {},
   "outputs": [],
   "source": [
    "refu = mda.Universe(\"/Volumes/Akash_SSD/starter_project/ubiquitin/local/equil/1UBQ.pdb\")\n",
    "refprotein = refu.select_atoms(\"protein\")"
   ]
  },
  {
   "cell_type": "code",
   "execution_count": 14,
   "metadata": {},
   "outputs": [],
   "source": [
    "side_heavy_sel = \"protein and not(name N or name CA or name C or name O or name OC1 or name OC2 or type H)\""
   ]
  },
  {
   "cell_type": "code",
   "execution_count": 15,
   "metadata": {},
   "outputs": [
    {
     "name": "stdout",
     "output_type": "stream",
     "text": [
      "286\n",
      "CPU times: user 1.59 s, sys: 27.5 ms, total: 1.62 s\n",
      "Wall time: 1.72 s\n"
     ]
    }
   ],
   "source": [
    "%%time\n",
    "#Method 1: Explicit loops\n",
    "def dist(coordsi, coordsj, box):\n",
    "    #PBC distance calculation\n",
    "    dx = coordsi - coordsj\n",
    "    return np.sqrt(min(dx[0],box[0]-dx[0])**2 + min(dx[1],box[1]-dx[1])**2 + min(dx[2],box[2]-dx[2])**2)\n",
    "\n",
    "nres = len(refprotein.residues)\n",
    "box = u.dimensions\n",
    "\n",
    "refcontacts = 0\n",
    "\n",
    "for i in range(nres):\n",
    "    heavy_side_i = refprotein.residues[i].atoms.select_atoms(side_heavy_sel)\n",
    "    heavy_side_j = refprotein.residues[i+4:].atoms.select_atoms(side_heavy_sel)\n",
    "    for m in heavy_side_i:\n",
    "        for n in heavy_side_j:\n",
    "            if dist(m.position, n.position, box) < 4.5:\n",
    "                refcontacts += 1\n",
    "                        \n",
    "print(refcontacts)"
   ]
  },
  {
   "cell_type": "code",
   "execution_count": 16,
   "metadata": {},
   "outputs": [
    {
     "name": "stdout",
     "output_type": "stream",
     "text": [
      "286\n",
      "CPU times: user 414 ms, sys: 13.5 ms, total: 428 ms\n",
      "Wall time: 499 ms\n"
     ]
    }
   ],
   "source": [
    "%%time\n",
    "#Method 2: Faster distance calculation using MDAnalysis library function\n",
    "nres = len(refprotein.residues)\n",
    "box = u.dimensions\n",
    "\n",
    "refcontacts = 0\n",
    "\n",
    "for i in range(nres):\n",
    "    heavy_side_i = refprotein.residues[i].atoms.select_atoms(side_heavy_sel)\n",
    "    heavy_side_j = refprotein.residues[i+4:].atoms.select_atoms(side_heavy_sel)\n",
    "    da = mda.lib.distances.distance_array(heavy_side_i.positions, heavy_side_j.positions, box)\n",
    "    refcontacts += np.count_nonzero(da < 4.5)\n",
    "        \n",
    "print(refcontacts)"
   ]
  },
  {
   "cell_type": "markdown",
   "metadata": {},
   "source": [
    "# Contact analysis along trajectory"
   ]
  },
  {
   "cell_type": "code",
   "execution_count": 17,
   "metadata": {},
   "outputs": [
    {
     "name": "stdout",
     "output_type": "stream",
     "text": [
      "Step = 1, time = 0.0 ps, contacts = 266\n",
      "Step = 2, time = 10.0 ps, contacts = 236\n",
      "Step = 3, time = 20.0 ps, contacts = 222\n",
      "Step = 4, time = 30.0 ps, contacts = 196\n",
      "Step = 5, time = 40.0 ps, contacts = 200\n",
      "Step = 6, time = 50.0 ps, contacts = 191\n",
      "Step = 7, time = 60.0 ps, contacts = 188\n",
      "Step = 8, time = 70.0 ps, contacts = 190\n",
      "Step = 9, time = 80.0 ps, contacts = 177\n",
      "Step = 10, time = 90.0 ps, contacts = 188\n",
      "Step = 11, time = 100.0 ps, contacts = 189\n",
      "Step = 12, time = 110.0 ps, contacts = 187\n",
      "Step = 13, time = 120.0 ps, contacts = 195\n",
      "Step = 14, time = 130.0 ps, contacts = 179\n",
      "Step = 15, time = 140.0 ps, contacts = 159\n",
      "Step = 16, time = 150.0 ps, contacts = 141\n",
      "Step = 17, time = 160.0 ps, contacts = 154\n",
      "Step = 18, time = 170.0 ps, contacts = 147\n",
      "Step = 19, time = 180.0 ps, contacts = 140\n",
      "Step = 20, time = 190.0 ps, contacts = 149\n",
      "Step = 21, time = 200.0 ps, contacts = 128\n",
      "Step = 22, time = 210.0 ps, contacts = 131\n",
      "Step = 23, time = 220.0 ps, contacts = 125\n",
      "Step = 24, time = 230.0 ps, contacts = 113\n",
      "Step = 25, time = 240.0 ps, contacts = 128\n",
      "Step = 26, time = 250.0 ps, contacts = 111\n",
      "Step = 27, time = 260.0 ps, contacts = 107\n",
      "Step = 28, time = 270.0 ps, contacts = 141\n",
      "Step = 29, time = 280.0 ps, contacts = 116\n",
      "Step = 30, time = 290.0 ps, contacts = 105\n",
      "Step = 31, time = 300.0 ps, contacts = 109\n",
      "Step = 32, time = 310.0 ps, contacts = 86\n",
      "Step = 33, time = 320.0 ps, contacts = 82\n",
      "Step = 34, time = 330.0 ps, contacts = 68\n",
      "Step = 35, time = 340.0 ps, contacts = 63\n",
      "Step = 36, time = 350.0 ps, contacts = 63\n",
      "Step = 37, time = 360.0 ps, contacts = 36\n",
      "Step = 38, time = 370.0 ps, contacts = 38\n",
      "Step = 39, time = 380.0 ps, contacts = 37\n",
      "Step = 40, time = 390.0 ps, contacts = 16\n",
      "Step = 41, time = 400.0 ps, contacts = 20\n",
      "Step = 42, time = 410.0 ps, contacts = 23\n",
      "Step = 43, time = 420.0 ps, contacts = 17\n",
      "Step = 44, time = 430.0 ps, contacts = 11\n",
      "Step = 45, time = 440.0 ps, contacts = 8\n",
      "Step = 46, time = 450.0 ps, contacts = 5\n",
      "Step = 47, time = 460.0 ps, contacts = 6\n",
      "Step = 48, time = 470.0 ps, contacts = 4\n",
      "Step = 49, time = 480.0 ps, contacts = 3\n",
      "Step = 50, time = 490.0 ps, contacts = 2\n",
      "Step = 51, time = 500.0 ps, contacts = 4\n",
      "Step = 52, time = 510.0 ps, contacts = 1\n",
      "Step = 53, time = 520.0 ps, contacts = 2\n",
      "Step = 54, time = 530.0 ps, contacts = 1\n",
      "Step = 55, time = 540.0 ps, contacts = 1\n",
      "Step = 56, time = 550.0 ps, contacts = 1\n",
      "Step = 57, time = 560.0 ps, contacts = 1\n",
      "Step = 58, time = 570.0 ps, contacts = 0\n",
      "Step = 59, time = 580.0 ps, contacts = 0\n",
      "Step = 60, time = 590.0 ps, contacts = 0\n",
      "Step = 61, time = 600.0 ps, contacts = 0\n",
      "Step = 62, time = 610.0 ps, contacts = 0\n",
      "Step = 63, time = 620.0 ps, contacts = 0\n",
      "Step = 64, time = 630.0 ps, contacts = 0\n",
      "Step = 65, time = 640.0 ps, contacts = 0\n",
      "Step = 66, time = 650.0 ps, contacts = 0\n",
      "Step = 67, time = 660.0 ps, contacts = 0\n",
      "Step = 68, time = 670.0 ps, contacts = 0\n",
      "Step = 69, time = 680.0 ps, contacts = 0\n",
      "Step = 70, time = 690.0 ps, contacts = 0\n",
      "Step = 71, time = 700.0 ps, contacts = 0\n",
      "Step = 72, time = 710.0 ps, contacts = 0\n",
      "Step = 73, time = 720.0 ps, contacts = 0\n",
      "Step = 74, time = 730.0 ps, contacts = 0\n",
      "Step = 75, time = 740.0 ps, contacts = 0\n",
      "Step = 76, time = 750.0 ps, contacts = 0\n",
      "Step = 77, time = 760.0 ps, contacts = 0\n",
      "Step = 78, time = 770.0 ps, contacts = 0\n",
      "Step = 79, time = 780.0 ps, contacts = 0\n",
      "Step = 80, time = 790.0 ps, contacts = 0\n",
      "Step = 81, time = 800.0 ps, contacts = 0\n",
      "Step = 82, time = 810.0 ps, contacts = 0\n",
      "Step = 83, time = 820.0 ps, contacts = 0\n",
      "Step = 84, time = 830.0 ps, contacts = 0\n",
      "Step = 85, time = 840.0 ps, contacts = 0\n",
      "Step = 86, time = 850.0 ps, contacts = 0\n",
      "Step = 87, time = 860.0 ps, contacts = 0\n",
      "Step = 88, time = 870.0 ps, contacts = 0\n",
      "Step = 89, time = 880.0 ps, contacts = 0\n",
      "Step = 90, time = 890.0 ps, contacts = 0\n",
      "Step = 91, time = 900.0 ps, contacts = 0\n",
      "Step = 92, time = 910.0 ps, contacts = 0\n",
      "Step = 93, time = 920.0 ps, contacts = 0\n",
      "Step = 94, time = 930.0 ps, contacts = 0\n",
      "Step = 95, time = 940.0 ps, contacts = 0\n",
      "Step = 96, time = 950.0 ps, contacts = 0\n",
      "Step = 97, time = 960.0 ps, contacts = 0\n",
      "Step = 98, time = 970.0 ps, contacts = 0\n",
      "Step = 99, time = 980.0 ps, contacts = 0\n",
      "Step = 100, time = 990.0 ps, contacts = 0\n",
      "Step = 101, time = 1000.0 ps, contacts = 0\n",
      "Step = 102, time = 1010.0 ps, contacts = 0\n",
      "Step = 103, time = 1020.0 ps, contacts = 0\n",
      "Step = 104, time = 1030.0 ps, contacts = 0\n",
      "Step = 105, time = 1040.0 ps, contacts = 0\n",
      "Step = 106, time = 1050.0 ps, contacts = 0\n",
      "Step = 107, time = 1060.0 ps, contacts = 0\n",
      "Step = 108, time = 1070.0 ps, contacts = 0\n",
      "Step = 109, time = 1080.0 ps, contacts = 0\n",
      "Step = 110, time = 1090.0 ps, contacts = 0\n",
      "Step = 111, time = 1100.0 ps, contacts = 0\n",
      "Step = 112, time = 1110.0 ps, contacts = 0\n",
      "Step = 113, time = 1120.0 ps, contacts = 0\n",
      "Step = 114, time = 1130.0 ps, contacts = 0\n",
      "Step = 115, time = 1140.0 ps, contacts = 0\n",
      "Step = 116, time = 1150.0 ps, contacts = 0\n",
      "Step = 117, time = 1160.0 ps, contacts = 0\n",
      "Step = 118, time = 1170.0 ps, contacts = 0\n",
      "Step = 119, time = 1180.0 ps, contacts = 0\n",
      "Step = 120, time = 1190.0 ps, contacts = 0\n",
      "Step = 121, time = 1200.0 ps, contacts = 0\n",
      "Step = 122, time = 1210.0 ps, contacts = 0\n",
      "Step = 123, time = 1220.0 ps, contacts = 0\n",
      "Step = 124, time = 1230.0 ps, contacts = 0\n",
      "Step = 125, time = 1240.0 ps, contacts = 0\n",
      "Step = 126, time = 1250.0 ps, contacts = 0\n",
      "Step = 127, time = 1260.0 ps, contacts = 0\n",
      "Step = 128, time = 1270.0 ps, contacts = 0\n",
      "Step = 129, time = 1280.0 ps, contacts = 0\n",
      "Step = 130, time = 1290.0 ps, contacts = 0\n",
      "Step = 131, time = 1300.0 ps, contacts = 0\n",
      "Step = 132, time = 1310.0 ps, contacts = 0\n",
      "Step = 133, time = 1320.0 ps, contacts = 0\n",
      "Step = 134, time = 1330.0 ps, contacts = 0\n",
      "Step = 135, time = 1340.0 ps, contacts = 0\n",
      "Step = 136, time = 1350.0 ps, contacts = 0\n",
      "Step = 137, time = 1360.0 ps, contacts = 0\n",
      "Step = 138, time = 1370.0 ps, contacts = 0\n",
      "Step = 139, time = 1380.0 ps, contacts = 0\n",
      "Step = 140, time = 1390.0 ps, contacts = 0\n",
      "Step = 141, time = 1400.0 ps, contacts = 0\n",
      "Step = 142, time = 1410.0 ps, contacts = 0\n",
      "Step = 143, time = 1420.0 ps, contacts = 0\n",
      "Step = 144, time = 1430.0 ps, contacts = 0\n",
      "Step = 145, time = 1440.0 ps, contacts = 0\n",
      "Step = 146, time = 1450.0 ps, contacts = 0\n",
      "Step = 147, time = 1460.0 ps, contacts = 0\n",
      "Step = 148, time = 1470.0 ps, contacts = 0\n",
      "Step = 149, time = 1480.0 ps, contacts = 0\n",
      "Step = 150, time = 1490.0 ps, contacts = 0\n",
      "Step = 151, time = 1500.0 ps, contacts = 0\n",
      "Step = 152, time = 1510.0 ps, contacts = 0\n",
      "Step = 153, time = 1520.0 ps, contacts = 0\n",
      "Step = 154, time = 1530.0 ps, contacts = 0\n",
      "Step = 155, time = 1540.0 ps, contacts = 0\n",
      "Step = 156, time = 1550.0 ps, contacts = 0\n",
      "Step = 157, time = 1560.0 ps, contacts = 0\n",
      "Step = 158, time = 1570.0 ps, contacts = 0\n",
      "Step = 159, time = 1580.0 ps, contacts = 0\n",
      "Step = 160, time = 1590.0 ps, contacts = 0\n",
      "Step = 161, time = 1600.0 ps, contacts = 0\n",
      "Step = 162, time = 1610.0 ps, contacts = 0\n",
      "Step = 163, time = 1620.0 ps, contacts = 0\n",
      "Step = 164, time = 1630.0 ps, contacts = 0\n",
      "Step = 165, time = 1640.0 ps, contacts = 0\n",
      "Step = 166, time = 1650.0 ps, contacts = 0\n",
      "Step = 167, time = 1660.0 ps, contacts = 0\n",
      "Step = 168, time = 1670.0 ps, contacts = 0\n",
      "Step = 169, time = 1680.0 ps, contacts = 0\n",
      "Step = 170, time = 1690.0 ps, contacts = 0\n",
      "Step = 171, time = 1700.0 ps, contacts = 0\n",
      "Step = 172, time = 1710.0 ps, contacts = 0\n",
      "Step = 173, time = 1720.0 ps, contacts = 0\n",
      "Step = 174, time = 1730.0 ps, contacts = 0\n",
      "Step = 175, time = 1740.0 ps, contacts = 0\n",
      "Step = 176, time = 1750.0 ps, contacts = 0\n",
      "Step = 177, time = 1760.0 ps, contacts = 0\n",
      "Step = 178, time = 1770.0 ps, contacts = 0\n",
      "Step = 179, time = 1780.0 ps, contacts = 0\n",
      "Step = 180, time = 1790.0 ps, contacts = 0\n",
      "Step = 181, time = 1800.0 ps, contacts = 0\n",
      "Step = 182, time = 1810.0 ps, contacts = 0\n",
      "Step = 183, time = 1820.0 ps, contacts = 0\n",
      "Step = 184, time = 1830.0 ps, contacts = 0\n",
      "Step = 185, time = 1840.0 ps, contacts = 0\n",
      "Step = 186, time = 1850.0 ps, contacts = 0\n",
      "Step = 187, time = 1860.0 ps, contacts = 0\n",
      "Step = 188, time = 1870.0 ps, contacts = 0\n",
      "Step = 189, time = 1880.0 ps, contacts = 0\n",
      "Step = 190, time = 1890.0 ps, contacts = 0\n",
      "Step = 191, time = 1900.0 ps, contacts = 0\n",
      "Step = 192, time = 1910.0 ps, contacts = 0\n",
      "Step = 193, time = 1920.0 ps, contacts = 0\n",
      "Step = 194, time = 1930.0 ps, contacts = 0\n"
     ]
    },
    {
     "name": "stdout",
     "output_type": "stream",
     "text": [
      "Step = 195, time = 1940.0 ps, contacts = 0\n",
      "Step = 196, time = 1950.0 ps, contacts = 0\n",
      "Step = 197, time = 1960.0 ps, contacts = 0\n",
      "Step = 198, time = 1970.0 ps, contacts = 0\n",
      "Step = 199, time = 1980.0 ps, contacts = 0\n",
      "Step = 200, time = 1990.0 ps, contacts = 0\n",
      "Step = 201, time = 2000.0 ps, contacts = 0\n",
      "CPU times: user 5min 10s, sys: 5.53 s, total: 5min 15s\n",
      "Wall time: 5min 12s\n"
     ]
    }
   ],
   "source": [
    "%%time\n",
    "# Method 1\n",
    "\n",
    "def dist(coordsi, coordsj, box):\n",
    "    #PBC distance calculation\n",
    "    dx = coordsi - coordsj\n",
    "    return np.sqrt(min(dx[0],box[0]-dx[0])**2 + min(dx[1],box[1]-dx[1])**2 + min(dx[2],box[2]-dx[2])**2)\n",
    "\n",
    "skip = 1\n",
    "nres = len(protein.residues)\n",
    "\n",
    "step = 0\n",
    "contacts = []\n",
    "\n",
    "for ts in u.trajectory[0::skip]:\n",
    "    #Method 2\n",
    "    box = ts.dimensions\n",
    "    ncontacts = 0\n",
    "\n",
    "    for i in range(nres):\n",
    "        heavy_side_i = protein.residues[i].atoms.select_atoms(\"protein and not(backbone or type H)\")\n",
    "        heavy_side_j = protein.residues[i+4:].atoms.select_atoms(\"protein and not(backbone or type H)\")\n",
    "        for m in heavy_side_i:\n",
    "            for n in heavy_side_j:\n",
    "                if dist(m.position, n.position, box) < 4.5:\n",
    "                    ncontacts += 1\n",
    "        \n",
    "    print(\"Step = {}, time = {} ps, contacts = {}\".format(step*skip + 1,ts.time,ncontacts))\n",
    "    contacts.append([ts.time, ncontacts])\n",
    "    step += 1\n",
    "\n",
    "contacts_1 = np.array(contacts)"
   ]
  },
  {
   "cell_type": "code",
   "execution_count": 18,
   "metadata": {},
   "outputs": [
    {
     "name": "stdout",
     "output_type": "stream",
     "text": [
      "Step = 1, time = 0.0 ps, contacts = 266\n",
      "Step = 2, time = 10.0 ps, contacts = 236\n",
      "Step = 3, time = 20.0 ps, contacts = 222\n",
      "Step = 4, time = 30.0 ps, contacts = 196\n",
      "Step = 5, time = 40.0 ps, contacts = 200\n",
      "Step = 6, time = 50.0 ps, contacts = 191\n",
      "Step = 7, time = 60.0 ps, contacts = 188\n",
      "Step = 8, time = 70.0 ps, contacts = 190\n",
      "Step = 9, time = 80.0 ps, contacts = 177\n",
      "Step = 10, time = 90.0 ps, contacts = 188\n",
      "Step = 11, time = 100.0 ps, contacts = 189\n",
      "Step = 12, time = 110.0 ps, contacts = 187\n",
      "Step = 13, time = 120.0 ps, contacts = 195\n",
      "Step = 14, time = 130.0 ps, contacts = 179\n",
      "Step = 15, time = 140.0 ps, contacts = 159\n",
      "Step = 16, time = 150.0 ps, contacts = 141\n",
      "Step = 17, time = 160.0 ps, contacts = 154\n",
      "Step = 18, time = 170.0 ps, contacts = 147\n",
      "Step = 19, time = 180.0 ps, contacts = 140\n",
      "Step = 20, time = 190.0 ps, contacts = 149\n",
      "Step = 21, time = 200.0 ps, contacts = 128\n",
      "Step = 22, time = 210.0 ps, contacts = 131\n",
      "Step = 23, time = 220.0 ps, contacts = 125\n",
      "Step = 24, time = 230.0 ps, contacts = 113\n",
      "Step = 25, time = 240.0 ps, contacts = 128\n",
      "Step = 26, time = 250.0 ps, contacts = 111\n",
      "Step = 27, time = 260.0 ps, contacts = 107\n",
      "Step = 28, time = 270.0 ps, contacts = 141\n",
      "Step = 29, time = 280.0 ps, contacts = 116\n",
      "Step = 30, time = 290.0 ps, contacts = 105\n",
      "Step = 31, time = 300.0 ps, contacts = 109\n",
      "Step = 32, time = 310.0 ps, contacts = 86\n",
      "Step = 33, time = 320.0 ps, contacts = 82\n",
      "Step = 34, time = 330.0 ps, contacts = 68\n",
      "Step = 35, time = 340.0 ps, contacts = 63\n",
      "Step = 36, time = 350.0 ps, contacts = 63\n",
      "Step = 37, time = 360.0 ps, contacts = 36\n",
      "Step = 38, time = 370.0 ps, contacts = 38\n",
      "Step = 39, time = 380.0 ps, contacts = 37\n",
      "Step = 40, time = 390.0 ps, contacts = 16\n",
      "Step = 41, time = 400.0 ps, contacts = 20\n",
      "Step = 42, time = 410.0 ps, contacts = 23\n",
      "Step = 43, time = 420.0 ps, contacts = 17\n",
      "Step = 44, time = 430.0 ps, contacts = 11\n",
      "Step = 45, time = 440.0 ps, contacts = 8\n",
      "Step = 46, time = 450.0 ps, contacts = 5\n",
      "Step = 47, time = 460.0 ps, contacts = 6\n",
      "Step = 48, time = 470.0 ps, contacts = 4\n",
      "Step = 49, time = 480.0 ps, contacts = 3\n",
      "Step = 50, time = 490.0 ps, contacts = 2\n",
      "Step = 51, time = 500.0 ps, contacts = 4\n",
      "Step = 52, time = 510.0 ps, contacts = 1\n",
      "Step = 53, time = 520.0 ps, contacts = 2\n",
      "Step = 54, time = 530.0 ps, contacts = 1\n",
      "Step = 55, time = 540.0 ps, contacts = 1\n",
      "Step = 56, time = 550.0 ps, contacts = 1\n",
      "Step = 57, time = 560.0 ps, contacts = 1\n",
      "Step = 58, time = 570.0 ps, contacts = 0\n",
      "Step = 59, time = 580.0 ps, contacts = 0\n",
      "Step = 60, time = 590.0 ps, contacts = 0\n",
      "Step = 61, time = 600.0 ps, contacts = 0\n",
      "Step = 62, time = 610.0 ps, contacts = 0\n",
      "Step = 63, time = 620.0 ps, contacts = 0\n",
      "Step = 64, time = 630.0 ps, contacts = 0\n",
      "Step = 65, time = 640.0 ps, contacts = 0\n",
      "Step = 66, time = 650.0 ps, contacts = 0\n",
      "Step = 67, time = 660.0 ps, contacts = 0\n",
      "Step = 68, time = 670.0 ps, contacts = 0\n",
      "Step = 69, time = 680.0 ps, contacts = 0\n",
      "Step = 70, time = 690.0 ps, contacts = 0\n",
      "Step = 71, time = 700.0 ps, contacts = 0\n",
      "Step = 72, time = 710.0 ps, contacts = 0\n",
      "Step = 73, time = 720.0 ps, contacts = 0\n",
      "Step = 74, time = 730.0 ps, contacts = 0\n",
      "Step = 75, time = 740.0 ps, contacts = 0\n",
      "Step = 76, time = 750.0 ps, contacts = 0\n",
      "Step = 77, time = 760.0 ps, contacts = 0\n",
      "Step = 78, time = 770.0 ps, contacts = 0\n",
      "Step = 79, time = 780.0 ps, contacts = 0\n",
      "Step = 80, time = 790.0 ps, contacts = 0\n",
      "Step = 81, time = 800.0 ps, contacts = 0\n",
      "Step = 82, time = 810.0 ps, contacts = 0\n",
      "Step = 83, time = 820.0 ps, contacts = 0\n",
      "Step = 84, time = 830.0 ps, contacts = 0\n",
      "Step = 85, time = 840.0 ps, contacts = 0\n",
      "Step = 86, time = 850.0 ps, contacts = 0\n",
      "Step = 87, time = 860.0 ps, contacts = 0\n",
      "Step = 88, time = 870.0 ps, contacts = 0\n",
      "Step = 89, time = 880.0 ps, contacts = 0\n",
      "Step = 90, time = 890.0 ps, contacts = 0\n",
      "Step = 91, time = 900.0 ps, contacts = 0\n",
      "Step = 92, time = 910.0 ps, contacts = 0\n",
      "Step = 93, time = 920.0 ps, contacts = 0\n",
      "Step = 94, time = 930.0 ps, contacts = 0\n",
      "Step = 95, time = 940.0 ps, contacts = 0\n",
      "Step = 96, time = 950.0 ps, contacts = 0\n",
      "Step = 97, time = 960.0 ps, contacts = 0\n",
      "Step = 98, time = 970.0 ps, contacts = 0\n",
      "Step = 99, time = 980.0 ps, contacts = 0\n",
      "Step = 100, time = 990.0 ps, contacts = 0\n",
      "Step = 101, time = 1000.0 ps, contacts = 0\n",
      "Step = 102, time = 1010.0 ps, contacts = 0\n",
      "Step = 103, time = 1020.0 ps, contacts = 0\n",
      "Step = 104, time = 1030.0 ps, contacts = 0\n",
      "Step = 105, time = 1040.0 ps, contacts = 0\n",
      "Step = 106, time = 1050.0 ps, contacts = 0\n",
      "Step = 107, time = 1060.0 ps, contacts = 0\n",
      "Step = 108, time = 1070.0 ps, contacts = 0\n",
      "Step = 109, time = 1080.0 ps, contacts = 0\n",
      "Step = 110, time = 1090.0 ps, contacts = 0\n",
      "Step = 111, time = 1100.0 ps, contacts = 0\n",
      "Step = 112, time = 1110.0 ps, contacts = 0\n",
      "Step = 113, time = 1120.0 ps, contacts = 0\n",
      "Step = 114, time = 1130.0 ps, contacts = 0\n",
      "Step = 115, time = 1140.0 ps, contacts = 0\n",
      "Step = 116, time = 1150.0 ps, contacts = 0\n",
      "Step = 117, time = 1160.0 ps, contacts = 0\n",
      "Step = 118, time = 1170.0 ps, contacts = 0\n",
      "Step = 119, time = 1180.0 ps, contacts = 0\n",
      "Step = 120, time = 1190.0 ps, contacts = 0\n",
      "Step = 121, time = 1200.0 ps, contacts = 0\n",
      "Step = 122, time = 1210.0 ps, contacts = 0\n",
      "Step = 123, time = 1220.0 ps, contacts = 0\n",
      "Step = 124, time = 1230.0 ps, contacts = 0\n",
      "Step = 125, time = 1240.0 ps, contacts = 0\n",
      "Step = 126, time = 1250.0 ps, contacts = 0\n",
      "Step = 127, time = 1260.0 ps, contacts = 0\n",
      "Step = 128, time = 1270.0 ps, contacts = 0\n",
      "Step = 129, time = 1280.0 ps, contacts = 0\n",
      "Step = 130, time = 1290.0 ps, contacts = 0\n",
      "Step = 131, time = 1300.0 ps, contacts = 0\n",
      "Step = 132, time = 1310.0 ps, contacts = 0\n",
      "Step = 133, time = 1320.0 ps, contacts = 0\n",
      "Step = 134, time = 1330.0 ps, contacts = 0\n",
      "Step = 135, time = 1340.0 ps, contacts = 0\n",
      "Step = 136, time = 1350.0 ps, contacts = 0\n",
      "Step = 137, time = 1360.0 ps, contacts = 0\n",
      "Step = 138, time = 1370.0 ps, contacts = 0\n",
      "Step = 139, time = 1380.0 ps, contacts = 0\n",
      "Step = 140, time = 1390.0 ps, contacts = 0\n",
      "Step = 141, time = 1400.0 ps, contacts = 0\n",
      "Step = 142, time = 1410.0 ps, contacts = 0\n",
      "Step = 143, time = 1420.0 ps, contacts = 0\n",
      "Step = 144, time = 1430.0 ps, contacts = 0\n",
      "Step = 145, time = 1440.0 ps, contacts = 0\n",
      "Step = 146, time = 1450.0 ps, contacts = 0\n",
      "Step = 147, time = 1460.0 ps, contacts = 0\n",
      "Step = 148, time = 1470.0 ps, contacts = 0\n",
      "Step = 149, time = 1480.0 ps, contacts = 0\n",
      "Step = 150, time = 1490.0 ps, contacts = 0\n",
      "Step = 151, time = 1500.0 ps, contacts = 0\n",
      "Step = 152, time = 1510.0 ps, contacts = 0\n",
      "Step = 153, time = 1520.0 ps, contacts = 0\n",
      "Step = 154, time = 1530.0 ps, contacts = 0\n",
      "Step = 155, time = 1540.0 ps, contacts = 0\n",
      "Step = 156, time = 1550.0 ps, contacts = 0\n",
      "Step = 157, time = 1560.0 ps, contacts = 0\n",
      "Step = 158, time = 1570.0 ps, contacts = 0\n",
      "Step = 159, time = 1580.0 ps, contacts = 0\n",
      "Step = 160, time = 1590.0 ps, contacts = 0\n",
      "Step = 161, time = 1600.0 ps, contacts = 0\n",
      "Step = 162, time = 1610.0 ps, contacts = 0\n",
      "Step = 163, time = 1620.0 ps, contacts = 0\n",
      "Step = 164, time = 1630.0 ps, contacts = 0\n",
      "Step = 165, time = 1640.0 ps, contacts = 0\n",
      "Step = 166, time = 1650.0 ps, contacts = 0\n",
      "Step = 167, time = 1660.0 ps, contacts = 0\n",
      "Step = 168, time = 1670.0 ps, contacts = 0\n",
      "Step = 169, time = 1680.0 ps, contacts = 0\n",
      "Step = 170, time = 1690.0 ps, contacts = 0\n",
      "Step = 171, time = 1700.0 ps, contacts = 0\n",
      "Step = 172, time = 1710.0 ps, contacts = 0\n",
      "Step = 173, time = 1720.0 ps, contacts = 0\n",
      "Step = 174, time = 1730.0 ps, contacts = 0\n",
      "Step = 175, time = 1740.0 ps, contacts = 0\n",
      "Step = 176, time = 1750.0 ps, contacts = 0\n",
      "Step = 177, time = 1760.0 ps, contacts = 0\n",
      "Step = 178, time = 1770.0 ps, contacts = 0\n",
      "Step = 179, time = 1780.0 ps, contacts = 0\n",
      "Step = 180, time = 1790.0 ps, contacts = 0\n",
      "Step = 181, time = 1800.0 ps, contacts = 0\n",
      "Step = 182, time = 1810.0 ps, contacts = 0\n",
      "Step = 183, time = 1820.0 ps, contacts = 0\n",
      "Step = 184, time = 1830.0 ps, contacts = 0\n",
      "Step = 185, time = 1840.0 ps, contacts = 0\n",
      "Step = 186, time = 1850.0 ps, contacts = 0\n",
      "Step = 187, time = 1860.0 ps, contacts = 0\n",
      "Step = 188, time = 1870.0 ps, contacts = 0\n",
      "Step = 189, time = 1880.0 ps, contacts = 0\n",
      "Step = 190, time = 1890.0 ps, contacts = 0\n",
      "Step = 191, time = 1900.0 ps, contacts = 0\n",
      "Step = 192, time = 1910.0 ps, contacts = 0\n",
      "Step = 193, time = 1920.0 ps, contacts = 0\n",
      "Step = 194, time = 1930.0 ps, contacts = 0\n"
     ]
    },
    {
     "name": "stdout",
     "output_type": "stream",
     "text": [
      "Step = 195, time = 1940.0 ps, contacts = 0\n",
      "Step = 196, time = 1950.0 ps, contacts = 0\n",
      "Step = 197, time = 1960.0 ps, contacts = 0\n",
      "Step = 198, time = 1970.0 ps, contacts = 0\n",
      "Step = 199, time = 1980.0 ps, contacts = 0\n",
      "Step = 200, time = 1990.0 ps, contacts = 0\n",
      "Step = 201, time = 2000.0 ps, contacts = 0\n",
      "CPU times: user 1min 21s, sys: 549 ms, total: 1min 21s\n",
      "Wall time: 1min 21s\n"
     ]
    }
   ],
   "source": [
    "%%time\n",
    "# Method 2\n",
    "\n",
    "skip = 1\n",
    "nres = len(protein.residues)\n",
    "\n",
    "step = 0\n",
    "contacts = []\n",
    "\n",
    "for ts in u.trajectory[0::skip]:\n",
    "    #Method 2\n",
    "    box = ts.dimensions\n",
    "    ncontacts = 0\n",
    "\n",
    "    for i in range(nres):\n",
    "        heavy_side_i = protein.residues[i].atoms.select_atoms(\"protein and not(backbone or type H)\")\n",
    "        heavy_side_j = protein.residues[i+4:].atoms.select_atoms(\"protein and not(backbone or type H)\")\n",
    "        da = mda.lib.distances.distance_array(heavy_side_i.positions, heavy_side_j.positions, box)\n",
    "        ncontacts += np.count_nonzero(da < 4.5)\n",
    "        \n",
    "    print(\"Step = {}, time = {} ps, contacts = {}\".format(step*skip + 1,ts.time,ncontacts))\n",
    "    contacts.append([ts.time, ncontacts])\n",
    "    step += 1\n",
    "\n",
    "contacts_2 = np.array(contacts)"
   ]
  },
  {
   "cell_type": "code",
   "execution_count": 19,
   "metadata": {},
   "outputs": [],
   "source": [
    "assert(np.allclose(contacts_1, contacts_2))"
   ]
  },
  {
   "cell_type": "code",
   "execution_count": 20,
   "metadata": {},
   "outputs": [
    {
     "data": {
      "text/plain": [
       "(0, 279.3)"
      ]
     },
     "execution_count": 20,
     "metadata": {},
     "output_type": "execute_result"
    },
    {
     "data": {
      "image/png": "[encoded data removed]",
      "text/plain": [
       "<Figure size 600x400 with 1 Axes>"
      ]
     },
     "metadata": {
      "needs_background": "light"
     },
     "output_type": "display_data"
    }
   ],
   "source": [
    "plt.figure(dpi=100)\n",
    "ax = plt.gca()\n",
    "ax.plot(contacts_2[:,0], contacts_2[:,1], 'o-')\n",
    "ax.set_xlabel(\"Time (ps)\")\n",
    "ax.set_ylabel(\"Number of contacts\")\n",
    "ax.set_xlim([min(contacts_2[:,0]), max(contacts_2[:,0])])\n",
    "ax.set_ylim([0, None])"
   ]
  },
  {
   "cell_type": "code",
   "execution_count": 21,
   "metadata": {},
   "outputs": [
    {
     "data": {
      "text/plain": [
       "(0, 1)"
      ]
     },
     "execution_count": 21,
     "metadata": {},
     "output_type": "execute_result"
    },
    {
     "data": {
      "image/png": "[encoded data removed]",
      "text/plain": [
       "<Figure size 600x400 with 1 Axes>"
      ]
     },
     "metadata": {
      "needs_background": "light"
     },
     "output_type": "display_data"
    }
   ],
   "source": [
    "plt.figure(dpi=100)\n",
    "ax = plt.gca()\n",
    "ax.plot(contacts_2[:,0], contacts_2[:,1]/refcontacts, 'o-')\n",
    "ax.set_xlabel(\"Time (ps)\")\n",
    "ax.set_ylabel(\"Fraction of native contacts\")\n",
    "ax.set_xlim([min(contacts_2[:,0]), max(contacts_2[:,0])])\n",
    "ax.set_ylim([0, 1])"
   ]
  }
 ],
 "metadata": {
  "kernelspec": {
   "display_name": "Python 3",
   "language": "python",
   "name": "python3"
  },
  "language_info": {
   "codemirror_mode": {
    "name": "ipython",
    "version": 3
   },
   "file_extension": ".py",
   "mimetype": "text/x-python",
   "name": "python",
   "nbconvert_exporter": "python",
   "pygments_lexer": "ipython3",
   "version": "3.7.4"
  }
 },
 "nbformat": 4,
 "nbformat_minor": 2
}
